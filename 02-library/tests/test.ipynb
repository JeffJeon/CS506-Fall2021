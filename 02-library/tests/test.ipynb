{
 "cells": [
  {
   "cell_type": "code",
   "execution_count": 49,
   "metadata": {},
   "outputs": [
    {
     "name": "stdout",
     "output_type": "stream",
     "text": [
      "The autoreload extension is already loaded. To reload it, use:\n",
      "  %reload_ext autoreload\n"
     ]
    }
   ],
   "source": [
    "%load_ext autoreload\n",
    "%autoreload 2\n",
    "\n",
    "import sys \n",
    "sys.path.append(\"./../\")\n",
    "import pytest\n",
    "import random\n",
    "\n",
    "from cs506 import kmeans,read\n"
   ]
  },
  {
   "cell_type": "code",
   "execution_count": 62,
   "metadata": {},
   "outputs": [],
   "source": [
    "def clustered_all_points(clustering, dataset):\n",
    "    points = []\n",
    "    for assignment in clustering:\n",
    "        points += clustering[assignment]\n",
    "    for point in points:\n",
    "        if point not in dataset:\n",
    "            return False\n",
    "    return True\n",
    "\n",
    "def test_kmeans_when_k_is_1(datasetPath):\n",
    "    random.seed(1)\n",
    "    dataset = read.read_csv(datasetPath)\n",
    "    expected_clustering = dataset\n",
    "    clustering = kmeans.k_means(dataset=dataset, k=1)\n",
    "\n",
    "    assert len(clustering.keys()) == 1\n",
    "    assert clustered_all_points(clustering, dataset) is True\n",
    "\n",
    "    clustered = []\n",
    "    for assignment in clustering:\n",
    "        clustered.append(clustering[assignment])\n",
    "    ##############\n",
    "    assert clustered == [expected_clustering]\n",
    "    # \n",
    "test_kmeans_when_k_is_1(\"./test_files/dataset_1.csv\")"
   ]
  },
  {
   "cell_type": "code",
   "execution_count": 116,
   "metadata": {},
   "outputs": [
    {
     "name": "stdout",
     "output_type": "stream",
     "text": [
      "[[[138, 143], [93, 104], [61, 69], [48, 75], [37, 63], [29, 50], [23, 48], [30, 111], [2, 50], [38, 52], [46, 53], [71, 79], [25, 57], [74, 93], [50, 58], [76, 80], [78, 106], [60, 57], [50, 64], [77, 89], [64, 77], [40, 60], [136, 139], [94, 85], [36, 46], [45, 53], [67, 67], [120, 115], [172, 183], [66, 86], [46, 65], [121, 113], [44, 58], [64, 63], [56, 142], [40, 64], [116, 130], [87, 105], [43, 61], [43, 50], [161, 232], [36, 54]], [[179, 260], [298, 317], [381, 464], [387, 459], [507, 634], [243, 291], [256, 288]]]\n",
      "---\n",
      "[[[138, 143], [93, 104], [61, 69], [48, 75], [37, 63], [29, 50], [23, 48], [30, 111], [2, 50], [38, 52], [46, 53], [71, 79], [25, 57], [74, 93], [50, 58], [76, 80], [78, 106], [60, 57], [50, 64], [77, 89], [64, 77], [40, 60], [136, 139], [94, 85], [36, 46], [45, 53], [67, 67], [120, 115], [172, 183], [66, 86], [46, 65], [121, 113], [44, 58], [64, 63], [56, 142], [40, 64], [116, 130], [87, 105], [43, 61], [43, 50], [161, 232], [36, 54]], [[179, 260], [298, 317], [381, 464], [387, 459], [507, 634], [243, 291], [256, 288]]]\n"
     ]
    }
   ],
   "source": [
    "def test_kmeans_when_k_is_2(datasetPath, expected1, expected2):\n",
    "    random.seed(1)\n",
    "    \n",
    "    dataset = read.read_csv(datasetPath)\n",
    "    expected_clustering1 = read.read_csv(expected1)\n",
    "    expected_clustering2 = read.read_csv(expected2)\n",
    "    clustering = kmeans.k_means(dataset=dataset, k=2)\n",
    "    cost = kmeans.cost_function(clustering)\n",
    "    for _ in range(10):\n",
    "        new_clustering = kmeans.k_means(dataset=dataset, k=2)\n",
    "        new_cost = kmeans.cost_function(clustering)\n",
    "        if new_cost < cost:\n",
    "            clustering = new_clustering\n",
    "            cost = new_cost\n",
    "\n",
    "    assert len(clustering.keys()) == 2\n",
    "    assert clustered_all_points(clustering, dataset) is True\n",
    "    clustered = []\n",
    "    for assignment in clustering:\n",
    "        clustered.append(clustering[assignment])\n",
    "    print(clustered )\n",
    "    print(\"---\")\n",
    "    print([expected_clustering1, expected_clustering2])\n",
    "    assert clustered == [expected_clustering1, expected_clustering2]\n",
    "a =  \"test_files/dataset_1.csv\"\n",
    "b =  \"test_files/dataset_1_k_is_2_0.csv\"\n",
    "c =  \"test_files/dataset_1_k_is_2_1.csv\"\n",
    "test_kmeans_when_k_is_2(a,b,c)"
   ]
  },
  {
   "cell_type": "code",
   "execution_count": 117,
   "metadata": {},
   "outputs": [
    {
     "name": "stdout",
     "output_type": "stream",
     "text": [
      "40\n",
      "3\n"
     ]
    },
    {
     "ename": "AssertionError",
     "evalue": "",
     "output_type": "error",
     "traceback": [
      "\u001b[1;31m---------------------------------------------------------------------------\u001b[0m",
      "\u001b[1;31mAssertionError\u001b[0m                            Traceback (most recent call last)",
      "\u001b[1;32m<ipython-input-117-9493fbdbc062>\u001b[0m in \u001b[0;36m<module>\u001b[1;34m\u001b[0m\n\u001b[0;32m     29\u001b[0m \u001b[0mc\u001b[0m \u001b[1;33m=\u001b[0m  \u001b[1;34m\"test_files/dataset_1_k_is_3_1.csv\"\u001b[0m\u001b[1;33m\u001b[0m\u001b[1;33m\u001b[0m\u001b[0m\n\u001b[0;32m     30\u001b[0m \u001b[0md\u001b[0m \u001b[1;33m=\u001b[0m \u001b[1;34m\"test_files/dataset_1_k_is_3_2.csv\"\u001b[0m\u001b[1;33m\u001b[0m\u001b[1;33m\u001b[0m\u001b[0m\n\u001b[1;32m---> 31\u001b[1;33m \u001b[0mtest_kmeans_when_k_is_3\u001b[0m\u001b[1;33m(\u001b[0m\u001b[0ma\u001b[0m\u001b[1;33m,\u001b[0m\u001b[0mb\u001b[0m\u001b[1;33m,\u001b[0m\u001b[0mc\u001b[0m\u001b[1;33m,\u001b[0m\u001b[0md\u001b[0m\u001b[1;33m)\u001b[0m\u001b[1;33m\u001b[0m\u001b[1;33m\u001b[0m\u001b[0m\n\u001b[0m",
      "\u001b[1;32m<ipython-input-117-9493fbdbc062>\u001b[0m in \u001b[0;36mtest_kmeans_when_k_is_3\u001b[1;34m(datasetPath, expected1, expected2, expected3)\u001b[0m\n\u001b[0;32m     24\u001b[0m     \u001b[0mprint\u001b[0m\u001b[1;33m(\u001b[0m\u001b[0mlen\u001b[0m\u001b[1;33m(\u001b[0m\u001b[0mclustered\u001b[0m\u001b[1;33m[\u001b[0m\u001b[1;36m0\u001b[0m\u001b[1;33m]\u001b[0m\u001b[1;33m)\u001b[0m\u001b[1;33m)\u001b[0m\u001b[1;33m\u001b[0m\u001b[1;33m\u001b[0m\u001b[0m\n\u001b[0;32m     25\u001b[0m     \u001b[0mprint\u001b[0m\u001b[1;33m(\u001b[0m\u001b[0mlen\u001b[0m\u001b[1;33m(\u001b[0m\u001b[1;33m[\u001b[0m\u001b[0mexpected_clustering1\u001b[0m\u001b[1;33m,\u001b[0m \u001b[0mexpected_clustering2\u001b[0m\u001b[1;33m,\u001b[0m \u001b[0mexpected_clustering3\u001b[0m\u001b[1;33m]\u001b[0m\u001b[1;33m)\u001b[0m\u001b[1;33m)\u001b[0m\u001b[1;33m\u001b[0m\u001b[1;33m\u001b[0m\u001b[0m\n\u001b[1;32m---> 26\u001b[1;33m     \u001b[1;32massert\u001b[0m \u001b[0mclustered\u001b[0m \u001b[1;33m==\u001b[0m \u001b[1;33m[\u001b[0m\u001b[0mexpected_clustering1\u001b[0m\u001b[1;33m,\u001b[0m \u001b[0mexpected_clustering2\u001b[0m\u001b[1;33m,\u001b[0m \u001b[0mexpected_clustering3\u001b[0m\u001b[1;33m]\u001b[0m\u001b[1;33m\u001b[0m\u001b[1;33m\u001b[0m\u001b[0m\n\u001b[0m\u001b[0;32m     27\u001b[0m \u001b[0ma\u001b[0m \u001b[1;33m=\u001b[0m  \u001b[1;34m\"test_files/dataset_1.csv\"\u001b[0m\u001b[1;33m\u001b[0m\u001b[1;33m\u001b[0m\u001b[0m\n\u001b[0;32m     28\u001b[0m \u001b[0mb\u001b[0m \u001b[1;33m=\u001b[0m  \u001b[1;34m\"test_files/dataset_1_k_is_3_0.csv\"\u001b[0m\u001b[1;33m\u001b[0m\u001b[1;33m\u001b[0m\u001b[0m\n",
      "\u001b[1;31mAssertionError\u001b[0m: "
     ]
    }
   ],
   "source": [
    "import numpy as np\n",
    "def test_kmeans_when_k_is_3(datasetPath, expected1, expected2, expected3):\n",
    "    random.seed(1)\n",
    "    dataset = read.read_csv(datasetPath)\n",
    "    expected_clustering1 = read.read_csv(expected1)\n",
    "    expected_clustering2 = read.read_csv(expected2)\n",
    "    expected_clustering3 = read.read_csv(expected3)\n",
    "    clustering = kmeans.k_means(dataset=dataset, k=3)\n",
    "    cost = kmeans.cost_function(clustering)\n",
    "\n",
    "    for _ in range(10):\n",
    "        new_clustering = kmeans.k_means(dataset=dataset, k=3)\n",
    "        new_cost = kmeans.cost_function(clustering)\n",
    "        if new_cost < cost:\n",
    "            clustering = new_clustering\n",
    "            cost = new_cost\n",
    "\n",
    "    assert len(clustering.keys()) == 3\n",
    "    assert clustered_all_points(clustering, dataset) is True\n",
    "    \n",
    "    clustered = []\n",
    "    for assignment in clustering:\n",
    "        clustered.append(clustering[assignment])\n",
    "    print(len(clustered[0]))\n",
    "    print(len([expected_clustering1, expected_clustering2, expected_clustering3]))\n",
    "    assert clustered == [expected_clustering1, expected_clustering2, expected_clustering3]\n",
    "a =  \"test_files/dataset_1.csv\"\n",
    "b =  \"test_files/dataset_1_k_is_3_0.csv\"\n",
    "c =  \"test_files/dataset_1_k_is_3_1.csv\"\n",
    "d = \"test_files/dataset_1_k_is_3_2.csv\"\n",
    "test_kmeans_when_k_is_3(a,b,c,d)\n"
   ]
  },
  {
   "cell_type": "code",
   "execution_count": null,
   "metadata": {},
   "outputs": [],
   "source": []
  }
 ],
 "metadata": {
  "interpreter": {
   "hash": "e2f07df974c767b5b75fc8023063a501c81de7f76d08a0c87f94939b54750d09"
  },
  "kernelspec": {
   "display_name": "Python 3.8.8 64-bit ('base': conda)",
   "language": "python",
   "name": "python3"
  },
  "language_info": {
   "codemirror_mode": {
    "name": "ipython",
    "version": 3
   },
   "file_extension": ".py",
   "mimetype": "text/x-python",
   "name": "python",
   "nbconvert_exporter": "python",
   "pygments_lexer": "ipython3",
   "version": "3.7.3"
  },
  "orig_nbformat": 4
 },
 "nbformat": 4,
 "nbformat_minor": 2
}
